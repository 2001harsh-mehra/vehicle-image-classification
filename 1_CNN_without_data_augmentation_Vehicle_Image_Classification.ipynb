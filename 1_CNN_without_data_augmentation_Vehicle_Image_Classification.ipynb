{
  "nbformat": 4,
  "nbformat_minor": 0,
  "metadata": {
    "colab": {
      "provenance": [],
      "include_colab_link": true
    },
    "kernelspec": {
      "name": "python3",
      "display_name": "Python 3"
    },
    "language_info": {
      "name": "python"
    }
  },
  "cells": [
    {
      "cell_type": "markdown",
      "metadata": {
        "id": "view-in-github",
        "colab_type": "text"
      },
      "source": [
        "<a href=\"https://colab.research.google.com/github/2001harsh-mehra/vehicle-image-classification/blob/main/1_CNN_without_data_augmentation_Vehicle_Image_Classification.ipynb\" target=\"_parent\"><img src=\"https://colab.research.google.com/assets/colab-badge.svg\" alt=\"Open In Colab\"/></a>"
      ]
    },
    {
      "cell_type": "code",
      "source": [
        "from google.colab import drive\n",
        "drive.mount('/content/drive')"
      ],
      "metadata": {
        "colab": {
          "base_uri": "https://localhost:8080/"
        },
        "id": "WODdkgQps6N5",
        "outputId": "e14e668f-5ef2-4e2e-b4eb-7d64aad68ed3"
      },
      "execution_count": 1,
      "outputs": [
        {
          "output_type": "stream",
          "name": "stdout",
          "text": [
            "Mounted at /content/drive\n"
          ]
        }
      ]
    },
    {
      "cell_type": "code",
      "source": [
        "import zipfile as vehiclezip\n",
        "import os as os_veh\n",
        "import matplotlib.pyplot as pltveh\n",
        "import matplotlib.image as mpimgveh\n",
        "import shutil as shut_veh\n",
        "from sklearn.model_selection import train_test_split as tts_veh\n",
        "from tensorflow.keras.preprocessing.image import ImageDataGenerator as imgg_gen_veh\n",
        "import numpy as npveh\n",
        "from tensorflow.keras.preprocessing.image import load_img as ld_img_veh, img_to_array as img_2_ary_veh"
      ],
      "metadata": {
        "id": "UkXajBgktVWp"
      },
      "execution_count": 2,
      "outputs": []
    },
    {
      "cell_type": "code",
      "source": [
        "vehicle_base_drive = '/content/drive/MyDrive/Vehicle Classification'\n",
        "vehicle_zip_dir = os_veh.path.join(vehicle_base_drive, 'vehicles.zip')\n",
        "vehicle_extract_dir = '/content/vehicle_data'\n",
        "\n",
        "with vehiclezip.ZipFile(vehicle_zip_dir, 'r') as zip_ref:\n",
        "    zip_ref.extractall(vehicle_extract_dir)\n",
        "print(\"Unzipping done. Vehicle images are now ready!\")\n",
        "\n",
        "vehicle_main_dir = os_veh.path.join(vehicle_extract_dir, 'Vehicles')\n",
        "\n",
        "for clas_vehicle in os_veh.listdir(vehicle_main_dir):\n",
        "    clas_path_veh = os_veh.path.join(vehicle_main_dir, clas_vehicle)\n",
        "    if os_veh.path.isdir(clas_path_veh):\n",
        "        pictures = os_veh.listdir(clas_path_veh)\n",
        "        full_veh_cnt = len(pictures)\n",
        "        print(f\"Vehicle Class: {clas_vehicle} — Total number of images: {full_veh_cnt}\")"
      ],
      "metadata": {
        "colab": {
          "base_uri": "https://localhost:8080/"
        },
        "id": "a9B0QYdZtcO2",
        "outputId": "d9dbf83b-c762-4baa-f5ab-912be9ffef4f"
      },
      "execution_count": 3,
      "outputs": [
        {
          "output_type": "stream",
          "name": "stdout",
          "text": [
            "Unzipping done. Vehicle images are now ready!\n",
            "Vehicle Class: Cars — Total number of images: 790\n",
            "Vehicle Class: Ships — Total number of images: 800\n",
            "Vehicle Class: Auto Rickshaws — Total number of images: 800\n",
            "Vehicle Class: Planes — Total number of images: 800\n",
            "Vehicle Class: Bikes — Total number of images: 800\n",
            "Vehicle Class: Motorcycles — Total number of images: 800\n",
            "Vehicle Class: Trains — Total number of images: 800\n"
          ]
        }
      ]
    },
    {
      "cell_type": "markdown",
      "source": [
        "Data Splitting\n"
      ],
      "metadata": {
        "id": "jxmlFT09tnHT"
      }
    },
    {
      "cell_type": "code",
      "source": [
        "split_output_dir = os_veh.path.join('/content', 'vehicle_data_split')\n",
        "tt_rto = 0.2  # 20% data taken for testing\n",
        "\n",
        "# Create train and test folders\n",
        "for veh_foldr in ['train', 'test']:\n",
        "    os_veh.makedirs(os_veh.path.join(split_output_dir, veh_foldr), exist_ok=True)\n",
        "\n",
        "#Splitting and copying vehicle images\n",
        "for clas_vehicle in os_veh.listdir(vehicle_main_dir):\n",
        "    clas_path_veh = os_veh.path.join(vehicle_main_dir, clas_vehicle)\n",
        "    if not os_veh.path.isdir(clas_path_veh):\n",
        "        continue\n",
        "\n",
        "    all_pics = os_veh.listdir(clas_path_veh)\n",
        "    tn_pics, tt_pics = tts_veh(all_pics, test_size=tt_rto, random_state=42)\n",
        "\n"
      ],
      "metadata": {
        "id": "rbSXzze1ttj_"
      },
      "execution_count": 7,
      "outputs": []
    }
  ]
}