{
  "cells": [
    {
      "cell_type": "markdown",
      "metadata": {
        "id": "view-in-github",
        "colab_type": "text"
      },
      "source": [
        "<a href=\"https://colab.research.google.com/github/2001harsh-mehra/vehicle-image-classification/blob/main/1_CNN_without_data_augmentation_Vehicle_Image_Classification.ipynb\" target=\"_parent\"><img src=\"https://colab.research.google.com/assets/colab-badge.svg\" alt=\"Open In Colab\"/></a>"
      ]
    },
    {
      "cell_type": "code",
      "execution_count": null,
      "metadata": {
        "id": "WODdkgQps6N5"
      },
      "outputs": [],
      "source": [
        "from google.colab import drive\n",
        "drive.mount('/content/drive')"
      ]
    },
    {
      "cell_type": "code",
      "execution_count": null,
      "metadata": {
        "id": "UkXajBgktVWp"
      },
      "outputs": [],
      "source": [
        "import zipfile as vehiclezip\n",
        "import os as os_veh\n",
        "import matplotlib.pyplot as pltveh\n",
        "import matplotlib.image as mpimgveh\n",
        "import shutil as shut_veh\n",
        "from sklearn.model_selection import train_test_split as tts_veh\n",
        "from tensorflow.keras.preprocessing.image import ImageDataGenerator as imgg_gen_veh\n",
        "import numpy as npveh\n",
        "from tensorflow.keras.preprocessing.image import load_img as ld_img_veh, img_to_array as img_2_ary_veh"
      ]
    },
    {
      "cell_type": "code",
      "execution_count": null,
      "metadata": {
        "id": "a9B0QYdZtcO2"
      },
      "outputs": [],
      "source": [
        "vehicle_base_drive = '/content/drive/MyDrive/Vehicle Classification'\n",
        "vehicle_zip_dir = os_veh.path.join(vehicle_base_drive, 'vehicles.zip')\n",
        "vehicle_extract_dir = '/content/vehicle_data'\n",
        "\n",
        "with vehiclezip.ZipFile(vehicle_zip_dir, 'r') as zip_ref:\n",
        "    zip_ref.extractall(vehicle_extract_dir)\n",
        "print(\"Unzipping done. Vehicle images are now ready!\")\n",
        "\n",
        "vehicle_main_dir = os_veh.path.join(vehicle_extract_dir, 'Vehicles')\n",
        "\n",
        "for clas_vehicle in os_veh.listdir(vehicle_main_dir):\n",
        "    clas_path_veh = os_veh.path.join(vehicle_main_dir, clas_vehicle)\n",
        "    if os_veh.path.isdir(clas_path_veh):\n",
        "        pictures = os_veh.listdir(clas_path_veh)\n",
        "        full_veh_cnt = len(pictures)\n",
        "        print(f\"Vehicle Class: {clas_vehicle} — Total number of images: {full_veh_cnt}\")"
      ]
    },
    {
      "cell_type": "markdown",
      "metadata": {
        "id": "jxmlFT09tnHT"
      },
      "source": [
        "Data Splitting\n"
      ]
    },
    {
      "cell_type": "code",
      "execution_count": null,
      "metadata": {
        "collapsed": true,
        "id": "rbSXzze1ttj_"
      },
      "outputs": [],
      "source": [
        "split_output_dir = os_veh.path.join('/content', 'vehicle_data_split')\n",
        "tt_rto = 0.2  # 20% data taken for testing\n",
        "\n",
        "# Create train and test folders\n",
        "for veh_foldr in ['train', 'test']:\n",
        "    os_veh.makedirs(os_veh.path.join(split_output_dir, veh_foldr), exist_ok=True)\n",
        "\n",
        "#Splitting and copying vehicle images\n",
        "for clas_vehicle in os_veh.listdir(vehicle_main_dir):\n",
        "    clas_path_veh = os_veh.path.join(vehicle_main_dir, clas_vehicle)\n",
        "    if not os_veh.path.isdir(clas_path_veh):\n",
        "        continue\n",
        "\n",
        "    all_pics = os_veh.listdir(clas_path_veh)\n",
        "    tn_pics, tt_pics = tts_veh(all_pics, test_size=tt_rto, random_state=42)\n",
        "\n",
        "    for split_type, image_list in [('train', tn_pics), ('test', tt_pics)]:\n",
        "        dest_direc = os_veh.path.join(split_output_dir, split_type, clas_vehicle)\n",
        "        os_veh.makedirs(dest_direc, exist_ok=True)\n",
        "        for picc in image_list:\n",
        "            shut_veh.copy(os_veh.path.join(clas_path_veh, picc), os_veh.path.join(dest_direc, picc))\n",
        "\n",
        "            print(\"Dataset successfully splitted into training and testing sets!\")\n",
        "for split_type in ['train', 'test']:\n",
        "    print(f\"\\n {split_type.upper()} SET:\")\n",
        "    split_path = os_veh.path.join(split_output_dir, split_type)\n",
        "    for clas_vehicle in os_veh.listdir(split_path):\n",
        "        img_count = len(os_veh.listdir(os_veh.path.join(split_path, clas_vehicle)))\n",
        "        print(f\"{clas_vehicle}: {img_count} images\")\n",
        "    print('-' * 80)"
      ]
    },
    {
      "cell_type": "markdown",
      "metadata": {
        "id": "RPls5Fx1NJ1L"
      },
      "source": [
        "Image Preprocessing"
      ]
    },
    {
      "cell_type": "code",
      "execution_count": null,
      "metadata": {
        "id": "CzlAIJ__HQgx"
      },
      "outputs": [],
      "source": [
        "random_seed = 42\n",
        "\n",
        "# rescaling the vehicle images\n",
        "veh_img_genn = imgg_gen_veh(rescale=1./255)\n",
        "sze_veh = (224, 224) # target size\n",
        "sze_bch = 32  #batch size\n",
        "one_hot_veh = 'categorical' # class mode\n",
        "\n",
        "\n",
        "#training data path\n",
        "vehicle_trn_pics = veh_img_genn.flow_from_directory(\n",
        "    os_veh.path.join(split_output_dir, 'train'),\n",
        "    target_size = sze_veh,\n",
        "    batch_size = sze_bch,\n",
        "    class_mode = one_hot_veh,\n",
        "    shuffle=True,\n",
        "    seed=random_seed\n",
        ")\n",
        "\n",
        "#testing data path\n",
        "vehicle_tst_pics = veh_img_genn.flow_from_directory(\n",
        "    os_veh.path.join(split_output_dir, 'test'),\n",
        "    target_size = sze_veh,\n",
        "    batch_size = sze_bch,\n",
        "    class_mode = one_hot_veh,\n",
        "    shuffle=False,\n",
        "    seed=random_seed\n",
        ")\n",
        "print(\"All vehicle images are successfully resized to 224x224 and rescaled to [0, 1] range.\")\n",
        "print(\"Batch size: 32 | Label format: One-hot encoded categorical\")\n",
        "\n",
        "veh_pics, veh_lbls = next(vehicle_trn_pics)\n",
        "pltveh.figure(figsize=(15, 5))\n",
        "for iv in range(7):\n",
        "    pltveh.subplot(1, 7, iv + 1)\n",
        "    pltveh.imshow(veh_pics[iv])\n",
        "    lbl_veh_idx = npveh.argmax(veh_lbls[iv])\n",
        "    clas_veh_nme = list(vehicle_trn_pics.class_indices.keys())[lbl_veh_idx]\n",
        "    pltveh.title(clas_veh_nme)\n",
        "    pltveh.axis('off')\n",
        "pltveh.show()"
      ]
    },
    {
      "cell_type": "code",
      "execution_count": null,
      "metadata": {
        "id": "a0gfgou6Ay-4"
      },
      "outputs": [],
      "source": [
        "print(\"Class index mapping:\", vehicle_trn_pics.class_indices)"
      ]
    },
    {
      "cell_type": "markdown",
      "metadata": {
        "id": "Z4jYIf10b2vy"
      },
      "source": [
        "Data Augmentation"
      ]
    },
    {
      "cell_type": "code",
      "execution_count": null,
      "metadata": {
        "id": "DXblbdY9cBVw"
      },
      "outputs": [],
      "source": [
        "random_seed = 42\n",
        "\n",
        "### Define augmentation settings using ImageDataGenerator\n",
        "augment_train_veh_gen = imgg_gen_veh(\n",
        "    rescale=1./255,                   # Normalize pixel values to [0, 1]\n",
        "    rotation_range=20,                # Randomly rotate images by ±20 degrees\n",
        "    width_shift_range=0.1,            # Shift images horizontally by ±10%\n",
        "    height_shift_range=0.1,           # Shift images vertically by ±10%\n",
        "    shear_range=0.1,                  # Apply shear transformation\n",
        "    zoom_range=0.1,                   # Random zoom in/out by ±10%\n",
        "    horizontal_flip=True,             # Randomly flip images horizontally\n",
        "    fill_mode='nearest'               # Fill in missing pixels after transformation\n",
        ")\n",
        "\n",
        "###defining path for augmented training vehicle images\n",
        "vehicle_trn_augument_pics = os_veh.path.join(split_output_dir, 'train')\n",
        "\n",
        "###Creating augmented training vehicle images data generator\n",
        "augmented_vehicle_trn_pics = augment_train_veh_gen.flow_from_directory(\n",
        "    vehicle_trn_augument_pics,\n",
        "    target_size=sze_veh,\n",
        "    batch_size=sze_bch,\n",
        "    class_mode=one_hot_veh,\n",
        "    shuffle=True,\n",
        "    seed=random_seed\n",
        ")\n",
        "print(\"Successfully created the Augmented training vehicle image generator\")"
      ]
    },
    {
      "cell_type": "markdown",
      "metadata": {
        "id": "emqI7GY69xM-"
      },
      "source": [
        "Visualizing some of the Augmentation techniques applied in a single Vehicle image"
      ]
    },
    {
      "cell_type": "code",
      "execution_count": null,
      "metadata": {
        "id": "hR8U2FRJ929j"
      },
      "outputs": [],
      "source": [
        "veh_augment_generator = [\n",
        "    ('Rotation (±20°)', imgg_gen_veh(rotation_range=20)),\n",
        "    ('Width Shift (±10%)', imgg_gen_veh(width_shift_range=0.1)),\n",
        "    ('Height Shift (±10%)', imgg_gen_veh(height_shift_range=0.1)),\n",
        "    ('Zoom (±10%)', imgg_gen_veh(zoom_range=0.1)),\n",
        "    ('Horizontal Flip', imgg_gen_veh(horizontal_flip=True))\n",
        "]\n",
        "\n",
        "vehicle_nam = list(augmented_vehicle_trn_pics.class_indices.keys())\n",
        "\n",
        "veh_name_aug = vehicle_nam[0]  # visualizing for autorickshaw\n",
        "\n",
        "one_clas_path = os_veh.path.join(split_output_dir, 'train', veh_name_aug)\n",
        "sample_veh_pic_nam = os_veh.listdir(one_clas_path)[1]\n",
        "veh_pic_path = os_veh.path.join(one_clas_path, sample_veh_pic_nam)\n",
        "veh_pic = ld_img_veh(veh_pic_path, target_size=(224, 224))\n",
        "veh_pic_aray = img_2_ary_veh(veh_pic)\n",
        "veh_pic_aray = npveh.expand_dims(veh_pic_aray, axis=0)\n",
        "\n",
        "pltveh.figure(figsize=(18, 4))\n",
        "pltveh.suptitle(f\"{veh_name_aug}\", fontsize=16)\n",
        "\n",
        "for iv, (aug_veh_nam, aug_veh_gen) in enumerate(veh_augment_generator):\n",
        "    aug_veh_pic = next(aug_veh_gen.flow(veh_pic_aray, batch_size=1, seed=42))[0].astype('uint8')\n",
        "    pltveh.subplot(1, 5, iv + 1)\n",
        "    pltveh.imshow(aug_veh_pic)\n",
        "    pltveh.title(aug_veh_nam)\n",
        "    pltveh.axis('off')\n",
        "\n",
        "pltveh.tight_layout()\n",
        "pltveh.show()"
      ]
    },
    {
      "cell_type": "markdown",
      "metadata": {
        "id": "tSFsj2e2vziT"
      },
      "source": [
        "CNN - without data augmentation"
      ]
    },
    {
      "cell_type": "code",
      "execution_count": null,
      "metadata": {
        "id": "AgPAGFtNv0_l"
      },
      "outputs": [],
      "source": [
        "from tensorflow.keras.models import Sequential as seq_veh\n",
        "from tensorflow.keras.layers import Conv2D as conv_veh, MaxPooling2D as maxpool_veh, Flatten as flat_veh, Dense as dens_veh\n",
        "from tensorflow.keras.layers import Dropout as drop_veh, BatchNormalization as batchnorm_veh\n",
        "from tensorflow.keras.optimizers import Adam as adamveh\n",
        "from sklearn.metrics import classification_report as class_veh\n",
        "from sklearn.metrics import confusion_matrix as conf_veh\n",
        "import seaborn as snsveh\n",
        "import warnings as warn\n",
        "warn.filterwarnings('ignore')"
      ]
    },
    {
      "cell_type": "code",
      "execution_count": null,
      "metadata": {
        "id": "XOWH4ZdgwFzj"
      },
      "outputs": [],
      "source": [
        "cnn_act_functn = 'relu'\n",
        "veh_in_shap = (224, 224, 3)\n",
        "num_veh_clas = 7\n"
      ]
    },
    {
      "cell_type": "code",
      "execution_count": null,
      "metadata": {
        "id": "J-nv11RP_Xl6"
      },
      "outputs": [],
      "source": [
        "model_cnn_vehicle = seq_veh([\n",
        "    conv_veh(32, (3, 3), activation=cnn_act_functn, input_shape=veh_in_shap),\n",
        "    batchnorm_veh(),\n",
        "    maxpool_veh(pool_size=(2, 2)),\n",
        "\n",
        "    conv_veh(64, (3, 3), activation=cnn_act_functn),\n",
        "    batchnorm_veh(),\n",
        "    maxpool_veh(pool_size=(2, 2)),\n",
        "\n",
        "    conv_veh(128, (3, 3), activation=cnn_act_functn),\n",
        "    batchnorm_veh(),\n",
        "    maxpool_veh(pool_size=(2, 2)),\n",
        "\n",
        "    flat_veh(),\n",
        "    dens_veh(128, activation=cnn_act_functn),\n",
        "    drop_veh(0.5),\n",
        "    dens_veh(64, activation=cnn_act_functn),\n",
        "    drop_veh(0.3),\n",
        "    dens_veh(num_veh_clas, activation='softmax')\n",
        "])\n",
        "\n",
        "model_cnn_vehicle.compile(optimizer=adamveh(learning_rate=0.0001), loss='categorical_crossentropy', metrics=['accuracy'])\n",
        "model_cnn_vehicle.summary()"
      ]
    },
    {
      "cell_type": "code",
      "execution_count": null,
      "metadata": {
        "id": "kKciuk1oJUOT"
      },
      "outputs": [],
      "source": [
        "cnn_epoch_hist = model_cnn_vehicle.fit(vehicle_trn_pics , epochs = 20)\n",
        "\n",
        "cnn_acc_veh = cnn_epoch_hist.history['accuracy']\n",
        "cnn_loss_veh = cnn_epoch_hist.history['loss']\n",
        "epochs_range = range(1, len(cnn_acc_veh) + 1)\n",
        "\n",
        "pltveh.figure(figsize=(10, 6))\n",
        "pltveh.plot(epochs_range, cnn_acc_veh, label='Training Accuracy', marker='o')\n",
        "pltveh.plot(epochs_range, cnn_loss_veh, label='Training Loss', marker='x')\n",
        "pltveh.title('CNN model without data augmentation - Training Accuracy and Loss over Epochs')\n",
        "pltveh.xlabel('20 Epochs')\n",
        "pltveh.ylabel('Value')\n",
        "pltveh.legend()\n",
        "pltveh.grid(True)\n",
        "pltveh.show()\n"
      ]
    },
    {
      "cell_type": "code",
      "execution_count": null,
      "metadata": {
        "id": "2JL765k7pprE"
      },
      "outputs": [],
      "source": [
        "### Predict on test images and convert predictions to class labels\n",
        "y_pred_veh_tst = model_cnn_vehicle.predict(vehicle_tst_pics)\n",
        "y_true_label_veh_tst = vehicle_tst_pics.classes[vehicle_tst_pics.index_array]\n",
        "y_pred_veh_clas = npveh.argmax(y_pred_veh_tst, axis=1)\n",
        "vehicle_nam = list(vehicle_tst_pics.class_indices.keys())\n",
        "\n",
        "print(\"Classifcation Report of Testing CNN without data augmentation\")\n",
        "print(class_veh(y_true_label_veh_tst, y_pred_veh_clas, target_names=vehicle_nam))\n",
        "\n",
        "### Generating and plotting the confusion matrix\n",
        "conf_tst = conf_veh(y_true_label_veh_tst, y_pred_veh_clas)\n",
        "\n",
        "pltveh.figure(figsize=(10, 7))\n",
        "snsveh.heatmap(conf_tst, annot=True, fmt='d', xticklabels=vehicle_nam, yticklabels=vehicle_nam, cmap='Blues')\n",
        "pltveh.xlabel('Predicted Label')\n",
        "pltveh.ylabel('True Label')\n",
        "pltveh.title('Testing CNN without data augmentation')\n",
        "pltveh.tight_layout()\n",
        "pltveh.show()"
      ]
    },
    {
      "cell_type": "markdown",
      "source": [
        "CNN - with data augmentation"
      ],
      "metadata": {
        "id": "tqtJK8bLl9fH"
      }
    },
    {
      "cell_type": "code",
      "source": [
        "from tensorflow.keras.models import Sequential as seq_veh\n",
        "from tensorflow.keras.layers import Conv2D as conv_veh, MaxPooling2D as maxpool_veh, Flatten as flat_veh, Dense as dens_veh\n",
        "from tensorflow.keras.layers import Dropout as drop_veh, BatchNormalization as batchnorm_veh\n",
        "from tensorflow.keras.optimizers import Adam as adamveh\n",
        "from sklearn.metrics import classification_report as class_veh\n",
        "from sklearn.metrics import confusion_matrix as conf_veh\n",
        "import seaborn as snsveh\n",
        "import warnings as warn\n",
        "warn.filterwarnings('ignore')"
      ],
      "metadata": {
        "id": "JHK9NlsPmJKR"
      },
      "execution_count": null,
      "outputs": []
    },
    {
      "cell_type": "code",
      "source": [
        "cnn_act_functn = 'relu'\n",
        "veh_in_shap = (224, 224, 3)\n",
        "num_veh_clas = 7"
      ],
      "metadata": {
        "id": "PttuIns3mPjD"
      },
      "execution_count": null,
      "outputs": []
    },
    {
      "cell_type": "code",
      "source": [
        "model_cnn_vehicle = seq_veh([\n",
        "    conv_veh(32, (3, 3), activation=cnn_act_functn, input_shape=veh_in_shap),\n",
        "    batchnorm_veh(),\n",
        "    maxpool_veh(pool_size=(2, 2)),\n",
        "\n",
        "    conv_veh(64, (3, 3), activation=cnn_act_functn),\n",
        "    batchnorm_veh(),\n",
        "    maxpool_veh(pool_size=(2, 2)),\n",
        "\n",
        "    conv_veh(128, (3, 3), activation=cnn_act_functn),\n",
        "    batchnorm_veh(),\n",
        "    maxpool_veh(pool_size=(2, 2)),\n",
        "\n",
        "    flat_veh(),\n",
        "    dens_veh(128, activation=cnn_act_functn),\n",
        "    drop_veh(0.5),\n",
        "    dens_veh(64, activation=cnn_act_functn),\n",
        "    drop_veh(0.3),\n",
        "    dens_veh(num_veh_clas, activation='softmax')\n",
        "])\n",
        "\n",
        "model_cnn_vehicle.compile(optimizer=adamveh(learning_rate=0.0001), loss='categorical_crossentropy', metrics=['accuracy'])\n",
        "model_cnn_vehicle.summary()"
      ],
      "metadata": {
        "id": "EXum2o9YmXVl"
      },
      "execution_count": null,
      "outputs": []
    },
    {
      "cell_type": "code",
      "source": [
        "cnn_aug_epoch_hist = model_cnn_vehicle.fit(augmented_vehicle_trn_pics, epochs = 20)\n",
        "\n",
        "cnn_acc_veh = cnn_aug_epoch_hist.history['accuracy']\n",
        "cnn_loss_veh = cnn_aug_epoch_hist.history['loss']\n",
        "epochs_range = range(1, len(cnn_acc_veh) + 1)\n",
        "\n",
        "pltveh.figure(figsize=(10, 6))\n",
        "pltveh.plot(epochs_range, cnn_acc_veh, label='Training Accuracy', marker='o')\n",
        "pltveh.plot(epochs_range, cnn_loss_veh, label='Training Loss', marker='x')\n",
        "pltveh.title('CNN model with data augmentation - Training Accuracy and Loss over Epochs')\n",
        "pltveh.xlabel('20 Epochs')\n",
        "pltveh.ylabel('Value')\n",
        "pltveh.legend()\n",
        "pltveh.grid(True)\n",
        "pltveh.show()"
      ],
      "metadata": {
        "id": "TQJvdDvAmjAF"
      },
      "execution_count": null,
      "outputs": []
    },
    {
      "cell_type": "code",
      "source": [
        "### Predict on test images and convert predictions to class labels\n",
        "y_pred_veh_tst = model_cnn_vehicle.predict(vehicle_tst_pics)\n",
        "y_true_label_veh_tst = vehicle_tst_pics.classes[vehicle_tst_pics.index_array]\n",
        "y_pred_veh_clas = npveh.argmax(y_pred_veh_tst, axis=1)\n",
        "vehicle_nam = list(vehicle_tst_pics.class_indices.keys())\n",
        "\n",
        "print(\"Classifcation Report of Testing CNN with data augmentation\")\n",
        "print(class_veh(y_true_label_veh_tst, y_pred_veh_clas, target_names=vehicle_nam))\n",
        "\n",
        "### Generating and plotting the confusion matrix\n",
        "conf_tst = conf_veh(y_true_label_veh_tst, y_pred_veh_clas)\n",
        "\n",
        "pltveh.figure(figsize=(10, 7))\n",
        "snsveh.heatmap(conf_tst, annot=True, fmt='d', xticklabels=vehicle_nam, yticklabels=vehicle_nam, cmap='Blues')\n",
        "pltveh.xlabel('Predicted Label')\n",
        "pltveh.ylabel('True Label')\n",
        "pltveh.title('Testing CNN with data augmentation')\n",
        "pltveh.tight_layout()\n",
        "pltveh.show()"
      ],
      "metadata": {
        "id": "WfzfWcshA9Zg"
      },
      "execution_count": null,
      "outputs": []
    },
    {
      "cell_type": "markdown",
      "source": [
        "Manual Testing for all the seven classes of vehicles"
      ],
      "metadata": {
        "id": "y6wZmmtnSg5r"
      }
    },
    {
      "cell_type": "markdown",
      "source": [
        "1. Checking the prediction of image from Autorickshaws category"
      ],
      "metadata": {
        "id": "x8W-BQw7Smz7"
      }
    },
    {
      "cell_type": "code",
      "source": [
        "auto_tst_path = '/content/vehicle_data_split/test/Auto Rickshaws'\n",
        "auto_image_nam = os_veh.listdir(auto_tst_path)[0]\n",
        "auto_image_pathh = os_veh.path.join(auto_tst_path, auto_image_nam)\n",
        "\n",
        "veh_pic_size = (224, 224)\n",
        "veh_picture = ld_img_veh(auto_image_pathh, target_size=veh_pic_size)\n",
        "\n",
        "pltveh.imshow(veh_picture)\n",
        "pltveh.title(\"Sample Image from Auto Rickshaws Class (Test Set)\")\n",
        "pltveh.axis('off')\n",
        "pltveh.show()\n",
        "\n",
        "veh_pic_array = img_2_ary_veh(veh_picture) / 255.0\n",
        "veh_pic_array_expand = npveh.expand_dims(veh_pic_array, axis=0)  # shape: (1, 224, 224, 3)\n",
        "\n",
        "## Predict the image using the CNN model\n",
        "veh_clas = list(vehicle_tst_pics.class_indices.keys())\n",
        "pred_veh = model_cnn_vehicle.predict(veh_pic_array_expand)\n",
        "pred_idx = npveh.argmax(pred_veh)\n",
        "pred_veh_clas = veh_clas[pred_idx]\n",
        "\n",
        "pltveh.imshow(veh_picture)\n",
        "pltveh.title(f\"Predicted Output: {pred_veh_clas}\")\n",
        "pltveh.axis('off')\n",
        "pltveh.show()\n",
        "\n",
        "print(f\"Predicted Vehicle Class: {pred_veh_clas}\")"
      ],
      "metadata": {
        "id": "cSxLjIdFSsWm"
      },
      "execution_count": null,
      "outputs": []
    },
    {
      "cell_type": "markdown",
      "source": [
        "2. Checking the prediction of image from Ship category"
      ],
      "metadata": {
        "id": "_Fa5eiHAfhb3"
      }
    },
    {
      "cell_type": "code",
      "source": [
        "ship_tst_path = '/content/vehicle_data_split/test/Ships'\n",
        "ship_image_nam = os_veh.listdir(ship_tst_path)[2]\n",
        "ship_image_pathh = os_veh.path.join(ship_tst_path, ship_image_nam)\n",
        "\n",
        "veh_pic_size = (224, 224)\n",
        "veh_picture = ld_img_veh(ship_image_pathh, target_size=veh_pic_size)\n",
        "\n",
        "pltveh.imshow(veh_picture)\n",
        "pltveh.title(\"Sample Image from Ships Class (Test Set)\")\n",
        "pltveh.axis('off')\n",
        "pltveh.show()\n",
        "\n",
        "veh_pic_array = img_2_ary_veh(veh_picture) / 255.0\n",
        "veh_pic_array_expand = npveh.expand_dims(veh_pic_array, axis=0)  # shape: (1, 224, 224, 3)\n",
        "\n",
        "## Predict the image using the CNN model\n",
        "veh_clas = list(vehicle_tst_pics.class_indices.keys())\n",
        "pred_veh = model_cnn_vehicle.predict(veh_pic_array_expand)\n",
        "pred_idx = npveh.argmax(pred_veh)\n",
        "pred_veh_clas = veh_clas[pred_idx]\n",
        "\n",
        "pltveh.imshow(veh_picture)\n",
        "pltveh.title(f\"Predicted Output: {pred_veh_clas}\")\n",
        "pltveh.axis('off')\n",
        "pltveh.show()\n",
        "\n",
        "print(f\"Predicted Vehicle Class: {pred_veh_clas}\")"
      ],
      "metadata": {
        "id": "EfWvUPRCfolm"
      },
      "execution_count": null,
      "outputs": []
    },
    {
      "cell_type": "markdown",
      "source": [
        "3. Checking the prediction of image from Bikes category"
      ],
      "metadata": {
        "id": "4pT8b5hjf2Mb"
      }
    },
    {
      "cell_type": "code",
      "source": [
        "bike_tst_path = '/content/vehicle_data_split/test/Bikes'\n",
        "bike_image_nam = os_veh.listdir(bike_tst_path)[5]\n",
        "bike_image_pathh = os_veh.path.join(bike_tst_path, bike_image_nam)\n",
        "\n",
        "veh_pic_size = (224, 224)\n",
        "veh_picture = ld_img_veh(bike_image_pathh, target_size=veh_pic_size)\n",
        "\n",
        "pltveh.imshow(veh_picture)\n",
        "pltveh.title(\"Sample Image from Bikes Class (Test Set)\")\n",
        "pltveh.axis('off')\n",
        "pltveh.show()\n",
        "\n",
        "veh_pic_array = img_2_ary_veh(veh_picture) / 255.0\n",
        "veh_pic_array_expand = npveh.expand_dims(veh_pic_array, axis=0)  # shape: (1, 224, 224, 3)\n",
        "\n",
        "## Predict the image using the CNN model\n",
        "veh_clas = list(vehicle_tst_pics.class_indices.keys())\n",
        "pred_veh = model_cnn_vehicle.predict(veh_pic_array_expand)\n",
        "pred_idx = npveh.argmax(pred_veh)\n",
        "pred_veh_clas = veh_clas[pred_idx]\n",
        "\n",
        "pltveh.imshow(veh_picture)\n",
        "pltveh.title(f\"Predicted Output: {pred_veh_clas}\")\n",
        "pltveh.axis('off')\n",
        "pltveh.show()\n",
        "\n",
        "print(f\"Predicted Vehicle Class: {pred_veh_clas}\")"
      ],
      "metadata": {
        "id": "FjyFf7gggCCG"
      },
      "execution_count": null,
      "outputs": []
    }
  ],
  "metadata": {
    "colab": {
      "provenance": [],
      "include_colab_link": true
    },
    "kernelspec": {
      "display_name": "Python 3",
      "name": "python3"
    },
    "language_info": {
      "name": "python"
    }
  },
  "nbformat": 4,
  "nbformat_minor": 0
}