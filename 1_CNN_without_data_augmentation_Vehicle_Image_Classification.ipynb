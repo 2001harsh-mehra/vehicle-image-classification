{
  "nbformat": 4,
  "nbformat_minor": 0,
  "metadata": {
    "colab": {
      "provenance": [],
      "include_colab_link": true
    },
    "kernelspec": {
      "name": "python3",
      "display_name": "Python 3"
    },
    "language_info": {
      "name": "python"
    }
  },
  "cells": [
    {
      "cell_type": "markdown",
      "metadata": {
        "id": "view-in-github",
        "colab_type": "text"
      },
      "source": [
        "<a href=\"https://colab.research.google.com/github/2001harsh-mehra/vehicle-image-classification/blob/main/1_CNN_without_data_augmentation_Vehicle_Image_Classification.ipynb\" target=\"_parent\"><img src=\"https://colab.research.google.com/assets/colab-badge.svg\" alt=\"Open In Colab\"/></a>"
      ]
    },
    {
      "cell_type": "code",
      "source": [
        "from google.colab import drive\n",
        "drive.mount('/content/drive')"
      ],
      "metadata": {
        "id": "WODdkgQps6N5"
      },
      "execution_count": null,
      "outputs": []
    },
    {
      "cell_type": "code",
      "source": [
        "import zipfile as vehiclezip\n",
        "import os as os_veh\n",
        "import matplotlib.pyplot as pltveh\n",
        "import matplotlib.image as mpimgveh\n",
        "import shutil as shut_veh\n",
        "from sklearn.model_selection import train_test_split as tts_veh\n",
        "from tensorflow.keras.preprocessing.image import ImageDataGenerator as imgg_gen_veh\n",
        "import numpy as npveh\n",
        "from tensorflow.keras.preprocessing.image import load_img as ld_img_veh, img_to_array as img_2_ary_veh"
      ],
      "metadata": {
        "id": "UkXajBgktVWp"
      },
      "execution_count": null,
      "outputs": []
    },
    {
      "cell_type": "code",
      "source": [
        "vehicle_base_drive = '/content/drive/MyDrive/Vehicle Classification'\n",
        "vehicle_zip_dir = os_veh.path.join(vehicle_base_drive, 'vehicles.zip')\n",
        "vehicle_extract_dir = '/content/vehicle_data'\n",
        "\n",
        "with vehiclezip.ZipFile(vehicle_zip_dir, 'r') as zip_ref:\n",
        "    zip_ref.extractall(vehicle_extract_dir)\n",
        "print(\"Unzipping done. Vehicle images are now ready!\")\n",
        "\n",
        "vehicle_main_dir = os_veh.path.join(vehicle_extract_dir, 'Vehicles')\n",
        "\n",
        "for clas_vehicle in os_veh.listdir(vehicle_main_dir):\n",
        "    clas_path_veh = os_veh.path.join(vehicle_main_dir, clas_vehicle)\n",
        "    if os_veh.path.isdir(clas_path_veh):\n",
        "        pictures = os_veh.listdir(clas_path_veh)\n",
        "        full_veh_cnt = len(pictures)\n",
        "        print(f\"Vehicle Class: {clas_vehicle} — Total number of images: {full_veh_cnt}\")"
      ],
      "metadata": {
        "id": "a9B0QYdZtcO2"
      },
      "execution_count": null,
      "outputs": []
    },
    {
      "cell_type": "markdown",
      "source": [
        "Data Splitting\n"
      ],
      "metadata": {
        "id": "jxmlFT09tnHT"
      }
    },
    {
      "cell_type": "code",
      "source": [
        "split_output_dir = os_veh.path.join('/content', 'vehicle_data_split')\n",
        "tt_rto = 0.2  # 20% data taken for testing\n",
        "\n",
        "# Create train and test folders\n",
        "for veh_foldr in ['train', 'test']:\n",
        "    os_veh.makedirs(os_veh.path.join(split_output_dir, veh_foldr), exist_ok=True)\n",
        "\n",
        "#Splitting and copying vehicle images\n",
        "for clas_vehicle in os_veh.listdir(vehicle_main_dir):\n",
        "    clas_path_veh = os_veh.path.join(vehicle_main_dir, clas_vehicle)\n",
        "    if not os_veh.path.isdir(clas_path_veh):\n",
        "        continue\n",
        "\n",
        "    all_pics = os_veh.listdir(clas_path_veh)\n",
        "    tn_pics, tt_pics = tts_veh(all_pics, test_size=tt_rto, random_state=42)\n",
        "\n",
        "    for split_type, image_list in [('train', tn_pics), ('test', tt_pics)]:\n",
        "        dest_direc = os_veh.path.join(split_output_dir, split_type, clas_vehicle)\n",
        "        os_veh.makedirs(dest_direc, exist_ok=True)\n",
        "        for picc in image_list:\n",
        "            shut_veh.copy(os_veh.path.join(clas_path_veh, picc), os_veh.path.join(dest_direc, picc))\n",
        "\n",
        "            print(\"Dataset successfully splitted into training and testing sets!\")\n",
        "for split_type in ['train', 'test']:\n",
        "    print(f\"\\n {split_type.upper()} SET:\")\n",
        "    split_path = os_veh.path.join(split_output_dir, split_type)\n",
        "    for clas_vehicle in os_veh.listdir(split_path):\n",
        "        img_count = len(os_veh.listdir(os_veh.path.join(split_path, clas_vehicle)))\n",
        "        print(f\"{clas_vehicle}: {img_count} images\")\n",
        "    print('-' * 80)"
      ],
      "metadata": {
        "id": "rbSXzze1ttj_",
        "collapsed": true
      },
      "execution_count": null,
      "outputs": []
    },
    {
      "cell_type": "markdown",
      "source": [
        "Image Preprocessing"
      ],
      "metadata": {
        "id": "RPls5Fx1NJ1L"
      }
    },
    {
      "cell_type": "code",
      "source": [
        "random_seed = 42\n",
        "\n",
        "# rescaling the vehicle images\n",
        "veh_img_genn = imgg_gen_veh(rescale=1./255)\n",
        "sze_veh = (224, 224) # target size\n",
        "sze_bch = 32  #batch size\n",
        "one_hot_veh = 'categorical' # class mode"
      ],
      "metadata": {
        "id": "CzlAIJ__HQgx"
      },
      "execution_count": null,
      "outputs": []
    }
  ]
}