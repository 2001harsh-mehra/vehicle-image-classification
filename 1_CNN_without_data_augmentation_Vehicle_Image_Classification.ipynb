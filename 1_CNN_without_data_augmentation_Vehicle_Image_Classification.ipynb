{
  "nbformat": 4,
  "nbformat_minor": 0,
  "metadata": {
    "colab": {
      "provenance": [],
      "include_colab_link": true
    },
    "kernelspec": {
      "name": "python3",
      "display_name": "Python 3"
    },
    "language_info": {
      "name": "python"
    }
  },
  "cells": [
    {
      "cell_type": "markdown",
      "metadata": {
        "id": "view-in-github",
        "colab_type": "text"
      },
      "source": [
        "<a href=\"https://colab.research.google.com/github/2001harsh-mehra/vehicle-image-classification/blob/main/1_CNN_without_data_augmentation_Vehicle_Image_Classification.ipynb\" target=\"_parent\"><img src=\"https://colab.research.google.com/assets/colab-badge.svg\" alt=\"Open In Colab\"/></a>"
      ]
    },
    {
      "cell_type": "code",
      "source": [
        "vehicle_base_drive = '/content/drive/MyDrive/Vehicle Classification'\n",
        "vehicle_zip_dir = os_veh.path.join(vehicle_base_drive, 'vehicles.zip')\n",
        "vehicle_extract_dir = '/content/vehicle_data'\n",
        "\n",
        "with vehiclezip.ZipFile(vehicle_zip_dir, 'r') as zip_ref:\n",
        "    zip_ref.extractall(vehicle_extract_dir)\n",
        "print(\"Unzipping done. Vehicle images are now ready!\")\n",
        "\n",
        "vehicle_main_dir = os_veh.path.join(vehicle_extract_dir, 'Vehicles')\n",
        "\n",
        "for clas_vehicle in os_veh.listdir(vehicle_main_dir):\n",
        "    clas_path_veh = os_veh.path.join(vehicle_main_dir, clas_vehicle)\n",
        "    if os_veh.path.isdir(clas_path_veh):\n",
        "        pictures = os_veh.listdir(clas_path_veh)\n",
        "        full_veh_cnt = len(pictures)\n",
        "        print(f\"Vehicle Class: {clas_vehicle} — Total number of images: {full_veh_cnt}\")"
      ],
      "metadata": {
        "colab": {
          "base_uri": "https://localhost:8080/"
        },
        "id": "8GA5fLKngvU4",
        "outputId": "73188624-f87f-48b2-8ddc-95c7c371fb85"
      },
      "execution_count": 10,
      "outputs": [
        {
          "output_type": "stream",
          "name": "stdout",
          "text": [
            "Unzipping done. Vehicle images are now ready!\n",
            "Vehicle Class: Cars — Total number of images: 790\n",
            "Vehicle Class: Ships — Total number of images: 800\n",
            "Vehicle Class: Auto Rickshaws — Total number of images: 800\n",
            "Vehicle Class: Planes — Total number of images: 800\n",
            "Vehicle Class: Bikes — Total number of images: 800\n",
            "Vehicle Class: Motorcycles — Total number of images: 800\n",
            "Vehicle Class: Trains — Total number of images: 800\n"
          ]
        }
      ]
    }
  ]
}